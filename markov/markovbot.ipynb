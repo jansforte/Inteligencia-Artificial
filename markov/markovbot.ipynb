{
 "cells": [
  {
   "cell_type": "markdown",
   "id": "alpha-particle",
   "metadata": {},
   "source": [
    "# Mi nuevo bot"
   ]
  },
  {
   "cell_type": "code",
   "execution_count": 1,
   "id": "phantom-harvest",
   "metadata": {},
   "outputs": [],
   "source": [
    "#Como primer medida importo las librerias os y markobot\n",
    "import os\n",
    "from markovbot import MarkovBot"
   ]
  },
  {
   "cell_type": "code",
   "execution_count": 2,
   "id": "meaningful-stranger",
   "metadata": {},
   "outputs": [
    {
     "name": "stdout",
     "output_type": "stream",
     "text": [
      "-----------------------------------------------------------\n",
      "Initialising MarkovBot ...\n"
     ]
    }
   ],
   "source": [
    "# Inicializamos una nueva instancia de markobot, y lo nombramos tweetbot\n",
    "print(\"-----------------------------------------------------------\")\n",
    "print(\"Initialising MarkovBot ...\")\n",
    "tweetbot = MarkovBot()"
   ]
  },
  {
   "cell_type": "code",
   "execution_count": 7,
   "id": "pretty-postcard",
   "metadata": {},
   "outputs": [
    {
     "data": {
      "text/plain": [
       "'C:\\\\Users\\\\jansf\\\\Desktop\\\\Inteligencia Artificial\\\\markov'"
      ]
     },
     "execution_count": 7,
     "metadata": {},
     "output_type": "execute_result"
    }
   ],
   "source": [
    "#os.path.abspath(__file__) me retorna la ruta de este archivo\n",
    "#__file__ = al nombre de este archivo\n",
    "#que al aplicarle os.path.dirname, me retorna la ubicacion del archivo\n",
    "dirname = os.path.dirname(os.path.abspath('markovbot.ipynb'))\n",
    "dirname"
   ]
  },
  {
   "cell_type": "code",
   "execution_count": 8,
   "id": "processed-zealand",
   "metadata": {},
   "outputs": [
    {
     "name": "stdout",
     "output_type": "stream",
     "text": [
      "-----------------------------\n",
      "Getting the path ...\n"
     ]
    },
    {
     "data": {
      "text/plain": [
       "'C:\\\\Users\\\\jansf\\\\Desktop\\\\Inteligencia Artificial\\\\markov\\\\DonQuijote.txt'"
      ]
     },
     "execution_count": 8,
     "metadata": {},
     "output_type": "execute_result"
    }
   ],
   "source": [
    "print(\"-----------------------------\")\n",
    "print(\"Getting the path ...\")\n",
    "# Construct the path to the book\n",
    "#os.path.join me concatena la ubicación del archivo con el nombre del archivo que se va a leer\n",
    "book = os.path.join(dirname, u'DonQuijote.txt')\n",
    "book"
   ]
  },
  {
   "cell_type": "code",
   "execution_count": 9,
   "id": "complete-protest",
   "metadata": {},
   "outputs": [
    {
     "name": "stdout",
     "output_type": "stream",
     "text": [
      "-----------------------------\n",
      "Reading the book ...\n",
      "MSG from Markovbot.read: Creating new database 'spanish'\n"
     ]
    }
   ],
   "source": [
    "# Make your bot read the book!\n",
    "print(\"-----------------------------\")\n",
    "print(\"Reading the book ...\")\n",
    "#read es un funcion de la libreria os,\n",
    "#esta metodo es aplicada en markovbot35 en mi caso.\n",
    "#para poder usar el read, primero se debe abrir el archivo\n",
    "#por eso se usa el metodo open, metodo que si no recibe el parametro\n",
    "#encoding='utf-8' leerá el archivo con el encoding mbcs, encoding standar de python, lo que implica que\n",
    "#el multilenguaje no funcione.\n",
    "#por otro lado el bot lee el archivo y guardará lo que aprende en la base de datos que nosotros\n",
    "#asignemos, en este caso spanish, esta base de datos se crea, si no pasamos el parametro, usara una\n",
    "#base de datos por defecto\n",
    "tweetbot.read(book, database='spanish')"
   ]
  },
  {
   "cell_type": "code",
   "execution_count": 10,
   "id": "yellow-quantity",
   "metadata": {},
   "outputs": [
    {
     "name": "stdout",
     "output_type": "stream",
     "text": [
      "tweetbot says:\n",
      "Acostumbrada prueba, yendo cada uno meta la espada en las armas, las acostumbradas de los que nos fuésemos a servir a vuestra merced en lo filósofo y docto, atrevida, por no atreverse, o por resquicios, o verjas de hierro, para resucitar en ella sus deseos; y si todo el mundo.\n"
     ]
    }
   ],
   "source": [
    "#una vez que el bot haya aprendido, se llama al metodo generate_text para que me genere un texto,\n",
    "#le decimos que lo genere con 50 palabras, que use la base de datos donde almacena lo que aprendió,\n",
    "#y le pasamos los parametros que queremos que hable en este caso de sancho o rocinante.\n",
    "my_first_text = tweetbot.generate_text(50, database='spanish',seedword=[u'Sancho', u'Rocinante'])\n",
    "print(\"tweetbot says:\")\n",
    "print(my_first_text)"
   ]
  },
  {
   "cell_type": "code",
   "execution_count": 12,
   "id": "chinese-affair",
   "metadata": {},
   "outputs": [
    {
     "name": "stdout",
     "output_type": "stream",
     "text": [
      "\n",
      "-----------------------------\n",
      "\n",
      "Generating the text ...\n",
      "tweetbot says:\n",
      "Si alguno le hubiera muerto; pero, habiéndole muerto quien le faltaron las prometidas camisas; y, yendo a ver qué rostro osas parecer ante su presencia, y de las cosas no podrá Sancho errar en nada.\n"
     ]
    }
   ],
   "source": [
    "print(\"\")\n",
    "print(\"-----------------------------\")\n",
    "print(\"\")\n",
    "print(\"Generating the text ...\")\n",
    "my_first_text = tweetbot.generate_text(50, database='spanish', seedword=[u'Sancho', u'Rocinante'])\n",
    "print(\"tweetbot says:\")\n",
    "print(my_first_text)"
   ]
  },
  {
   "cell_type": "code",
   "execution_count": 13,
   "id": "major-details",
   "metadata": {},
   "outputs": [
    {
     "name": "stdout",
     "output_type": "stream",
     "text": [
      "\n",
      "-----------------------------\n",
      "\n",
      "Generating the text ...\n",
      "tweetbot says:\n",
      "Cortesía. Era el carro a los dos según el cómputo de Ptolomeo, que fue Roque, preguntó a su escudero. Y, viéndole Sancho sin aquella fealdad primera, le dijo: ''Ya, señor Durandarte, carísimo primo mío, ya hice lo que el ventero oí que se me ha puesto.\n"
     ]
    }
   ],
   "source": [
    "print(\"\")\n",
    "print(\"-----------------------------\")\n",
    "print(\"\")\n",
    "print(\"Generating the text ...\")\n",
    "#my_first_text = tweetbot.generate_text(50, seedword=['dream', 'psychoanalysis'])\n",
    "my_first_text = tweetbot.generate_text(50, database='spanish', seedword=[u'Sancho', u'Rocinante'])\n",
    "print(\"tweetbot says:\")\n",
    "print(my_first_text)"
   ]
  }
 ],
 "metadata": {
  "kernelspec": {
   "display_name": "Python 3",
   "language": "python",
   "name": "python3"
  },
  "language_info": {
   "codemirror_mode": {
    "name": "ipython",
    "version": 3
   },
   "file_extension": ".py",
   "mimetype": "text/x-python",
   "name": "python",
   "nbconvert_exporter": "python",
   "pygments_lexer": "ipython3",
   "version": "3.9.1"
  }
 },
 "nbformat": 4,
 "nbformat_minor": 5
}
